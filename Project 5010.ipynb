{
 "cells": [
  {
   "cell_type": "markdown",
   "metadata": {},
   "source": [
    "# <div align=\"center\"> Yang HUANG 20656570"
   ]
  },
  {
   "cell_type": "markdown",
   "metadata": {},
   "source": [
    "## 1. Data Processing"
   ]
  },
  {
   "cell_type": "code",
   "execution_count": 21,
   "metadata": {},
   "outputs": [],
   "source": [
    "import pandas as pd \n",
    "import numpy as np"
   ]
  },
  {
   "cell_type": "code",
   "execution_count": 22,
   "metadata": {},
   "outputs": [],
   "source": [
    "# load data\n",
    "train0 = pd.read_csv('train.csv')\n",
    "test0 = pd.read_csv('test.csv')\n",
    "songs0 = pd.read_csv('songs.csv')\n",
    "members0 = pd.read_csv('members.csv',parse_dates=[\"registration_init_time\",\"expiration_date\"])\n",
    "songs_extra_info0 = pd.read_csv('song_extra_info.csv')"
   ]
  },
  {
   "cell_type": "code",
   "execution_count": 23,
   "metadata": {},
   "outputs": [
    {
     "name": "stdout",
     "output_type": "stream",
     "text": [
      "train\n",
      "<class 'pandas.core.frame.DataFrame'>\n",
      "RangeIndex: 7377418 entries, 0 to 7377417\n",
      "Data columns (total 6 columns):\n",
      "msno                  object\n",
      "song_id               object\n",
      "source_system_tab     object\n",
      "source_screen_name    object\n",
      "source_type           object\n",
      "target                int64\n",
      "dtypes: int64(1), object(5)\n",
      "memory usage: 337.7+ MB\n",
      "\n",
      "\n",
      "test\n",
      "<class 'pandas.core.frame.DataFrame'>\n",
      "RangeIndex: 2556790 entries, 0 to 2556789\n",
      "Data columns (total 6 columns):\n",
      "id                    int64\n",
      "msno                  object\n",
      "song_id               object\n",
      "source_system_tab     object\n",
      "source_screen_name    object\n",
      "source_type           object\n",
      "dtypes: int64(1), object(5)\n",
      "memory usage: 117.0+ MB\n",
      "\n",
      "\n",
      "members\n",
      "<class 'pandas.core.frame.DataFrame'>\n",
      "RangeIndex: 34403 entries, 0 to 34402\n",
      "Data columns (total 7 columns):\n",
      "msno                      34403 non-null object\n",
      "city                      34403 non-null int64\n",
      "bd                        34403 non-null int64\n",
      "gender                    14501 non-null object\n",
      "registered_via            34403 non-null int64\n",
      "registration_init_time    34403 non-null datetime64[ns]\n",
      "expiration_date           34403 non-null datetime64[ns]\n",
      "dtypes: datetime64[ns](2), int64(3), object(2)\n",
      "memory usage: 1.8+ MB\n",
      "\n",
      "\n",
      "songs\n",
      "<class 'pandas.core.frame.DataFrame'>\n",
      "RangeIndex: 2296320 entries, 0 to 2296319\n",
      "Data columns (total 7 columns):\n",
      "song_id        object\n",
      "song_length    int64\n",
      "genre_ids      object\n",
      "artist_name    object\n",
      "composer       object\n",
      "lyricist       object\n",
      "language       float64\n",
      "dtypes: float64(1), int64(1), object(5)\n",
      "memory usage: 122.6+ MB\n",
      "\n",
      "\n",
      "songs_extra_info\n",
      "<class 'pandas.core.frame.DataFrame'>\n",
      "RangeIndex: 2295971 entries, 0 to 2295970\n",
      "Data columns (total 3 columns):\n",
      "song_id    object\n",
      "name       object\n",
      "isrc       object\n",
      "dtypes: object(3)\n",
      "memory usage: 52.6+ MB\n"
     ]
    }
   ],
   "source": [
    "print(\"train\")\n",
    "train0.info()\n",
    "print(\"\\n\")\n",
    "print(\"test\")\n",
    "test0.info()\n",
    "print(\"\\n\")\n",
    "print(\"members\")\n",
    "members0.info()\n",
    "print(\"\\n\")\n",
    "print(\"songs\")\n",
    "songs0.info()\n",
    "print(\"\\n\")\n",
    "print(\"songs_extra_info\")\n",
    "songs_extra_info0.info()"
   ]
  },
  {
   "cell_type": "markdown",
   "metadata": {},
   "source": [
    "### Change object to catagory"
   ]
  },
  {
   "cell_type": "code",
   "execution_count": 24,
   "metadata": {},
   "outputs": [],
   "source": [
    "def object_to_category(df):\n",
    "    for col in df.columns:\n",
    "        if df[col].dtype == object:\n",
    "            df[col] = df[col].astype('category')\n",
    "object_to_category(train0)\n",
    "object_to_category(test0)\n",
    "object_to_category(members0)\n",
    "object_to_category(songs0)\n",
    "object_to_category(songs_extra_info0)"
   ]
  },
  {
   "cell_type": "code",
   "execution_count": 25,
   "metadata": {},
   "outputs": [],
   "source": [
    "# for temporary assignment\n",
    "train = train0\n",
    "test = test0\n",
    "songs = songs0\n",
    "members = members0\n",
    "songs_extra_info = songs_extra_info0"
   ]
  },
  {
   "cell_type": "markdown",
   "metadata": {},
   "source": [
    "## 2. Explantory Data Analysis (EDA)"
   ]
  },
  {
   "cell_type": "markdown",
   "metadata": {},
   "source": [
    "This part is done in another notebook seperately"
   ]
  },
  {
   "cell_type": "markdown",
   "metadata": {},
   "source": [
    "## 3. Feature Engineering "
   ]
  },
  {
   "cell_type": "markdown",
   "metadata": {},
   "source": [
    "### members"
   ]
  },
  {
   "cell_type": "code",
   "execution_count": 26,
   "metadata": {},
   "outputs": [],
   "source": [
    "members['membership_days'] = members['expiration_date'].subtract(members['registration_init_time']).dt.days\n",
    "#members['registration_year'] = members['registration_init_time'].dt.year\n",
    "#members['registration_month'] = members['registration_init_time'].dt.month\n",
    "#members['registration_day'] = members['registration_init_time'].dt.day\n",
    "\n",
    "#members['expiration_year'] = members['expiration_date'].dt.year\n",
    "#members['expiration_month'] = members['expiration_date'].dt.month\n",
    "#members['expiration_day'] = members['expiration_date'].dt.day\n",
    "members1 = members.drop(['registration_init_time','expiration_date'], axis=1)"
   ]
  },
  {
   "cell_type": "code",
   "execution_count": 27,
   "metadata": {},
   "outputs": [],
   "source": [
    "train = train.merge(members1, on='msno', how='left')\n",
    "test = test.merge(members1, on='msno', how='left')\n",
    "# train & test have no null in membership_days"
   ]
  },
  {
   "cell_type": "markdown",
   "metadata": {},
   "source": [
    "train & test have no null in membership_days. So, it's no need to handle missing values "
   ]
  },
  {
   "cell_type": "markdown",
   "metadata": {},
   "source": [
    "### songs"
   ]
  },
  {
   "cell_type": "code",
   "execution_count": 28,
   "metadata": {},
   "outputs": [],
   "source": [
    "songs.song_length.fillna(200000, inplace=True)\n",
    "\n",
    "def long_song_bool(x):\n",
    "    if x > 400000:\n",
    "        return 1\n",
    "    return 0\n",
    "songs['long_song_bool'] = songs['song_length'].apply(long_song_bool)\n"
   ]
  },
  {
   "cell_type": "code",
   "execution_count": 29,
   "metadata": {},
   "outputs": [],
   "source": [
    "songs1 = songs[['song_id','artist_name','genre_ids','language','long_song_bool']]\n",
    "train = train.merge(songs1, on='song_id', how='left')\n",
    "test = test.merge(songs1, on='song_id', how='left')"
   ]
  },
  {
   "cell_type": "code",
   "execution_count": 30,
   "metadata": {},
   "outputs": [],
   "source": [
    "# Deal with the missing values\n",
    "train['language'].fillna(-100, inplace=True) # replace nan with -100\n",
    "test['language'].fillna(-100, inplace=True) # replace nan with -100\n",
    "train['language']=train['language'].astype(\"category\")\n",
    "test['language']=test['language'].astype(\"category\")\n",
    "\n",
    "train['artist_name']=train['artist_name'].cat.add_categories(\"no_artist\").fillna('no_artist')\n",
    "test['artist_name']=test['artist_name'].cat.add_categories(\"no_artist\").fillna('no_artist')\n",
    "\n",
    "train['genre_ids']=train['genre_ids'].cat.add_categories(\"no_genre\").fillna('no_genre')\n",
    "test['genre_ids']=test['genre_ids'].cat.add_categories(\"no_genre\").fillna('no_genre')"
   ]
  },
  {
   "cell_type": "code",
   "execution_count": 31,
   "metadata": {},
   "outputs": [],
   "source": [
    "#test['artist_name']=test['artist_name'].cat.add_categories(\"unknown\").fillna('unknown')\n",
    "#train[train['artist_name']==\"unknown\"]\n",
    "#g_without_nan = g.cat.add_categories(\"D\").fillna(\"D\")’\n",
    "#train['artist_name']\n",
    "#len(test)"
   ]
  },
  {
   "cell_type": "markdown",
   "metadata": {},
   "source": [
    "### songs_extra_info"
   ]
  },
  {
   "cell_type": "code",
   "execution_count": 32,
   "metadata": {},
   "outputs": [
    {
     "name": "stdout",
     "output_type": "stream",
     "text": [
      "<class 'pandas.core.frame.DataFrame'>\n",
      "RangeIndex: 2295971 entries, 0 to 2295970\n",
      "Data columns (total 3 columns):\n",
      "song_id    category\n",
      "name       category\n",
      "isrc       category\n",
      "dtypes: category(3)\n",
      "memory usage: 266.5 MB\n"
     ]
    }
   ],
   "source": [
    "songs_extra_info = songs_extra_info0\n",
    "songs_extra_info0.info()"
   ]
  },
  {
   "cell_type": "code",
   "execution_count": 33,
   "metadata": {},
   "outputs": [],
   "source": [
    "def isrc_to_year(isrc):\n",
    "    if type(isrc) == str:\n",
    "        if int(isrc[5:7]) > 17:\n",
    "            return 1900 + int(isrc[5:7])\n",
    "        else:\n",
    "            return 2000 + int(isrc[5:7])\n",
    "    else:\n",
    "        return np.nan\n",
    "    \n",
    "songs_extra_info['song_year'] = songs_extra_info['isrc'].apply(isrc_to_year)"
   ]
  },
  {
   "cell_type": "code",
   "execution_count": 34,
   "metadata": {},
   "outputs": [
    {
     "name": "stderr",
     "output_type": "stream",
     "text": [
      "/Applications/anaconda3/lib/python3.7/site-packages/ipykernel_launcher.py:2: SettingWithCopyWarning: \n",
      "A value is trying to be set on a copy of a slice from a DataFrame.\n",
      "Try using .loc[row_indexer,col_indexer] = value instead\n",
      "\n",
      "See the caveats in the documentation: http://pandas.pydata.org/pandas-docs/stable/indexing.html#indexing-view-versus-copy\n",
      "  \n"
     ]
    }
   ],
   "source": [
    "songs_extra_info1 = songs_extra_info[[\"song_id\",\"song_year\"]]\n",
    "songs_extra_info1['song_year'] = songs_extra_info1['song_year'].astype(\"category\")\n",
    "train = train.merge(songs_extra_info1, on='song_id', how='left')\n",
    "test = test.merge(songs_extra_info1, on='song_id', how='left')"
   ]
  },
  {
   "cell_type": "markdown",
   "metadata": {},
   "source": [
    "### train set after being merged"
   ]
  },
  {
   "cell_type": "markdown",
   "metadata": {},
   "source": [
    "### Also some feartures are adding here...."
   ]
  },
  {
   "cell_type": "code",
   "execution_count": 35,
   "metadata": {},
   "outputs": [],
   "source": [
    "def artist_count(x):\n",
    "    if x == 'unknown':\n",
    "        return 0\n",
    "    else:\n",
    "        return x.count('and') + x.count('+')+ x.count(',') + x.count('feat') + x.count('&') + 1\n",
    "\n",
    "train['artist_count'] = train['artist_name'].apply(artist_count).astype(np.int8)\n",
    "test['artist_count'] = test['artist_name'].apply(artist_count).astype(np.int8)"
   ]
  },
  {
   "cell_type": "code",
   "execution_count": 36,
   "metadata": {},
   "outputs": [],
   "source": [
    "def genre_id_count(x):\n",
    "    if x == 'unknown':\n",
    "        return 0\n",
    "    else:\n",
    "        return x.count('|') + 1\n",
    "\n",
    "train['genre_ids_count'] = train['genre_ids'].apply(genre_id_count).astype(np.int8)\n",
    "test['genre_ids_count'] = test['genre_ids'].apply(genre_id_count).astype(np.int8)"
   ]
  },
  {
   "cell_type": "code",
   "execution_count": 37,
   "metadata": {},
   "outputs": [
    {
     "name": "stderr",
     "output_type": "stream",
     "text": [
      "/Applications/anaconda3/lib/python3.7/site-packages/ipykernel_launcher.py:2: FutureWarning: Sorting because non-concatenation axis is not aligned. A future version\n",
      "of pandas will change to not sort by default.\n",
      "\n",
      "To accept the future behavior, pass 'sort=False'.\n",
      "\n",
      "To retain the current behavior and silence the warning, pass 'sort=True'.\n",
      "\n",
      "  \n"
     ]
    }
   ],
   "source": [
    "# Count number of times that each song was played before\n",
    "temp = pd.concat([train,test]) \n",
    "song_played_count = temp[[\"song_id\",\"target\"]].groupby([\"song_id\"],as_index=False).count().rename(columns = {\"target\":\"song_played_count\"})\n",
    "train = train.merge(song_played_count, on='song_id', how='left')\n",
    "test = test.merge(song_played_count, on='song_id', how='left')"
   ]
  },
  {
   "cell_type": "code",
   "execution_count": 38,
   "metadata": {},
   "outputs": [],
   "source": [
    "# Count number of times that each artist was played before\n",
    "artist_played_count = temp[[\"artist_name\",\"target\"]].groupby([\"artist_name\"],as_index=False).count().rename(columns = {\"target\":\"artist_played_count\"})\n",
    "train = train.merge(artist_played_count, on='artist_name', how='left')\n",
    "test = test.merge(artist_played_count, on='artist_name', how='left')"
   ]
  },
  {
   "cell_type": "code",
   "execution_count": 39,
   "metadata": {},
   "outputs": [],
   "source": [
    "# Check out the user activation\n",
    "user_occurrence_count = temp[[\"msno\",\"target\"]].groupby([\"msno\"],as_index=False).count().rename(columns = {\"target\":\"user_occurrence_count\"})\n",
    "train = train.merge(user_occurrence_count, on='msno', how='left')\n",
    "test = test.merge(user_occurrence_count, on='msno', how='left')"
   ]
  },
  {
   "cell_type": "code",
   "execution_count": 41,
   "metadata": {},
   "outputs": [],
   "source": [
    "# Encoding\n",
    "\n",
    "from sklearn.preprocessing import LabelEncoder\n",
    "\n",
    "encoding_list = ['source_system_tab', 'source_screen_name','source_type']\n",
    "for i in encoding_list:\n",
    "    lb = LabelEncoder()\n",
    "    lb.fit(list(train[i].values) + list(test[i].values))\n",
    "    train[i] = lb.transform(list(train[i].values))\n",
    "    test[i] = lb.transform(list(test[i].values))"
   ]
  },
  {
   "cell_type": "code",
   "execution_count": 42,
   "metadata": {
    "scrolled": true
   },
   "outputs": [
    {
     "name": "stdout",
     "output_type": "stream",
     "text": [
      "train\n",
      "<class 'pandas.core.frame.DataFrame'>\n",
      "Int64Index: 7377418 entries, 0 to 7377417\n",
      "Data columns (total 21 columns):\n",
      "msno                     object\n",
      "song_id                  object\n",
      "source_system_tab        int64\n",
      "source_screen_name       int64\n",
      "source_type              int64\n",
      "target                   int64\n",
      "city                     int64\n",
      "bd                       int64\n",
      "gender                   category\n",
      "registered_via           int64\n",
      "membership_days          int64\n",
      "artist_name              category\n",
      "genre_ids                category\n",
      "language                 category\n",
      "long_song_bool           float64\n",
      "song_year                category\n",
      "artist_count             int8\n",
      "genre_ids_count          int8\n",
      "song_played_count        int64\n",
      "artist_played_count      int64\n",
      "user_occurrence_count    int64\n",
      "dtypes: category(5), float64(1), int64(11), int8(2), object(2)\n",
      "memory usage: 933.4+ MB\n",
      "\n",
      "\n",
      "test\n",
      "<class 'pandas.core.frame.DataFrame'>\n",
      "Int64Index: 2556790 entries, 0 to 2556789\n",
      "Data columns (total 21 columns):\n",
      "id                       int64\n",
      "msno                     object\n",
      "song_id                  object\n",
      "source_system_tab        int64\n",
      "source_screen_name       int64\n",
      "source_type              int64\n",
      "city                     int64\n",
      "bd                       int64\n",
      "gender                   category\n",
      "registered_via           int64\n",
      "membership_days          int64\n",
      "artist_name              category\n",
      "genre_ids                category\n",
      "language                 category\n",
      "long_song_bool           float64\n",
      "song_year                category\n",
      "artist_count             int8\n",
      "genre_ids_count          int8\n",
      "song_played_count        int64\n",
      "artist_played_count      int64\n",
      "user_occurrence_count    int64\n",
      "dtypes: category(5), float64(1), int64(11), int8(2), object(2)\n",
      "memory usage: 331.2+ MB\n"
     ]
    }
   ],
   "source": [
    "print(\"train\")\n",
    "train.info()\n",
    "print(\"\\n\")\n",
    "print(\"test\")\n",
    "test.info()"
   ]
  },
  {
   "cell_type": "code",
   "execution_count": 43,
   "metadata": {},
   "outputs": [],
   "source": [
    "#change into category\n",
    "object_to_category(train)\n",
    "object_to_category(test)"
   ]
  },
  {
   "cell_type": "markdown",
   "metadata": {},
   "source": [
    "## 4. LightGBM"
   ]
  },
  {
   "cell_type": "code",
   "execution_count": 44,
   "metadata": {},
   "outputs": [],
   "source": [
    "# Split the original train set\n",
    "# 75% as the train set, 25% as the validation set.\n",
    "\n",
    "index = round(len(train)*0.75) # round to nearest integer\n",
    "tr_set = train.iloc[0:index,:]\n",
    "val_set = train.iloc[index+1:,:]\n",
    "\n",
    "X_tr = tr_set.drop(['target'], axis=1)\n",
    "y_tr = tr_set['target'].values\n",
    "\n",
    "X_val = val_set.drop(['target'], axis=1)\n",
    "y_val = val_set['target'].values"
   ]
  },
  {
   "cell_type": "code",
   "execution_count": 45,
   "metadata": {},
   "outputs": [
    {
     "name": "stderr",
     "output_type": "stream",
     "text": [
      "/Applications/anaconda3/lib/python3.7/site-packages/lightgbm/__init__.py:48: UserWarning: Starting from version 2.2.1, the library file in distribution wheels for macOS is built by the Apple Clang (Xcode_8.3.3) compiler.\n",
      "This means that in case of installing LightGBM from PyPI via the ``pip install lightgbm`` command, you don't need to install the gcc compiler anymore.\n",
      "Instead of that, you need to install the OpenMP library, which is required for running LightGBM on the system with the Apple Clang compiler.\n",
      "You can install the OpenMP library by the following command: ``brew install libomp``.\n",
      "  \"You can install the OpenMP library by the following command: ``brew install libomp``.\", UserWarning)\n"
     ]
    }
   ],
   "source": [
    "#LightGBM\n",
    "import lightgbm as lgb\n",
    "lgb_train = lgb.Dataset(X_tr, y_tr)\n",
    "lgb_val = lgb.Dataset(X_val, y_val)"
   ]
  },
  {
   "cell_type": "code",
   "execution_count": 46,
   "metadata": {},
   "outputs": [
    {
     "name": "stderr",
     "output_type": "stream",
     "text": [
      "/Applications/anaconda3/lib/python3.7/site-packages/lightgbm/engine.py:148: UserWarning: Found `num_rounds` in params. Will use it instead of argument\n",
      "  warnings.warn(\"Found `{}` in params. Will use it instead of argument\".format(alias))\n"
     ]
    },
    {
     "name": "stdout",
     "output_type": "stream",
     "text": [
      "[10]\tvalid_0's auc: 0.660179\n",
      "[20]\tvalid_0's auc: 0.672338\n",
      "[30]\tvalid_0's auc: 0.67774\n",
      "[40]\tvalid_0's auc: 0.680318\n",
      "[50]\tvalid_0's auc: 0.681399\n",
      "[60]\tvalid_0's auc: 0.681865\n",
      "[70]\tvalid_0's auc: 0.682131\n",
      "[80]\tvalid_0's auc: 0.682737\n",
      "[90]\tvalid_0's auc: 0.683226\n",
      "[100]\tvalid_0's auc: 0.683528\n"
     ]
    }
   ],
   "source": [
    "params = {\n",
    "        'objective': 'binary',\n",
    "        'boosting': 'gbdt',\n",
    "        'learning_rate': 0.2 ,\n",
    "        'verbose': 0,\n",
    "        'num_leaves': 100,\n",
    "        'bagging_fraction': 0.95,\n",
    "        'bagging_freq': 1,\n",
    "        'bagging_seed': 1,\n",
    "        'feature_fraction': 0.9,\n",
    "        'feature_fraction_seed': 1,\n",
    "        'max_bin': 256,\n",
    "        'num_rounds': 100,\n",
    "        'metric' : 'auc'\n",
    "    }\n",
    "\n",
    "lgbm_model = lgb.train(params, train_set = lgb_train, valid_sets = lgb_val, verbose_eval=10)"
   ]
  },
  {
   "cell_type": "code",
   "execution_count": 47,
   "metadata": {},
   "outputs": [],
   "source": [
    "# predict the test set\n",
    "ids = test['id'].values\n",
    "X_test = test.drop(['id'], axis=1)\n",
    "\n",
    "predictions = lgbm_model.predict(X_test)\n",
    "\n",
    "# Writing output to csv\n",
    "subm = pd.DataFrame()\n",
    "subm['id'] = ids\n",
    "subm['target'] = predictions\n",
    "subm.to_csv('submission4.csv', index=False)"
   ]
  }
 ],
 "metadata": {
  "kernelspec": {
   "display_name": "Python 3",
   "language": "python",
   "name": "python3"
  }
 },
 "nbformat": 4,
 "nbformat_minor": 2
}
